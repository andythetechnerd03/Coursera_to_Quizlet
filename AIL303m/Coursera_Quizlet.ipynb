{
 "cells": [
  {
   "cell_type": "code",
   "execution_count": 1,
   "id": "3c8de8a3",
   "metadata": {},
   "outputs": [],
   "source": [
    "import pandas as pd\n",
    "from bs4 import BeautifulSoup\n",
    "import os"
   ]
  },
  {
   "cell_type": "code",
   "execution_count": null,
   "id": "676eabf2",
   "metadata": {},
   "outputs": [],
   "source": [
    "def print_code(xml):\n",
    "    code = xml.find_all('div',{\"class\":\"view-lines\"})\n",
    "    for c in code:\n",
    "        line = c.find_all(\"div\",{\"class\":\"view-line\"})\n",
    "        for l in line:\n",
    "            if not l.find(\"span\",{\"class\":[\"mtk1\",'mtk6','mtk20']}): continue\n",
    "            for ll in l.find(\"span\",{\"class\":[\"mtk1\",'mtk6','mtk20']}): # these are the types of code colors\n",
    "                print(l.text, end='')\n",
    "            print(\"\")"
   ]
  },
  {
   "cell_type": "code",
   "execution_count": null,
   "id": "78844fe6",
   "metadata": {},
   "outputs": [],
   "source": [
    "def print_short_answer(xml):\n",
    "    answer = xml.find('div',{\"data-test\":'readOnlyText'})\n",
    "    print(answer.text)"
   ]
  },
  {
   "cell_type": "code",
   "execution_count": null,
   "id": "5f257f9f",
   "metadata": {},
   "outputs": [],
   "source": [
    "def extract_data(soup): # seperate questions and answers by ---, questions and questions by </>\n",
    "    mydivs = soup.find_all(\"div\", {\"class\": \"rc-FormPartsQuestion\"})\n",
    "    for i,div in enumerate(mydivs):\n",
    "        question = div.find('div',{\"data-test\": 'legend'})\n",
    "        answers = div.find_all('div',{\"class\":\"rc-Option\"})\n",
    "        fill = div.find_all('div', {\"class\":\"rc-TextInputBox\"})\n",
    "        corrects = []\n",
    "        for q in question.select('p'):\n",
    "            if q.text.strip(): print(f\"{q.text}\")\n",
    "        if question.find('code'): #if there is a code in the question\n",
    "            print_code(question.find('code'))\n",
    "        for j,answer in enumerate(answers):\n",
    "            print(f\"{chr(j+65)}: \",end=\"\")\n",
    "            for line in answer.select('p'):\n",
    "                if line.text.strip(): print(line.text)\n",
    "            if answer.find(\"svg\")[\"aria-labelledby\"].startswith(('Checkbox','RadioChecked')): corrects.append(answer)\n",
    "            if answer.find('code'): print_code(answer.find('code'))  # if there is a code in the answer\n",
    "        print(\"---\")\n",
    "        for correct in corrects:\n",
    "            if correct.find('code'): print_code(correct.find('code'))\n",
    "            for c in correct.select('p'):\n",
    "                if c.text.strip(): print(c.text)\n",
    "        for f in fill:\n",
    "            print_short_answer(f)\n",
    "        print(\"</>\")"
   ]
  },
  {
   "cell_type": "code",
   "execution_count": 16,
   "id": "4568120e",
   "metadata": {},
   "outputs": [
    {
     "name": "stdout",
     "output_type": "stream",
     "text": [
      "You can use supervised machine learning for all of the following examples, EXCEPT:\n",
      "A: Segment customers by their demographics.\n",
      "B: Predict the number of customers that will visit a store on a given week.\n",
      "C: Predict the probability of a customer returning to a store.\n",
      "D: Interpret the main drivers that determine if a customer will return to a store.\n",
      "---\n",
      "Segment customers by their demographics.\n",
      "</>\n",
      "The autocorrect on your phone is an example of:\n",
      "A: Unsupervised learning\n",
      "B: Supervised learning\n",
      "C: Semi-supervised learning\n",
      "D: Reinforcement learning\n",
      "---\n",
      "Supervised learning\n",
      "</>\n",
      "This is the type of Machine Learning that uses both data with labeled outcomes and data without labeled outcomes:\n",
      "A: Supervised Machine Learning\n",
      "B: Unsupervised Machine Learning\n",
      "C: Mixed Machine Learning\n",
      "D: Semi-Supervised Machine Learning\n",
      "---\n",
      "Semi-Supervised Machine Learning\n",
      "</>\n",
      "This option describes a way of turning a regression problem into a classification problem:\n",
      "A: Create a new variable that flags 1 for above a certain value and 0 otherwise\n",
      "B: Use outlier treatment\n",
      "C: Use missing value handling\n",
      "D: Create a new variable that uses autoencoding to transform a continuous outcome into categorical\n",
      "---\n",
      "Create a new variable that flags 1 for above a certain value and 0 otherwise\n",
      "</>\n",
      "This is the syntax you need to predict new data after you have trained a linear regression model called LR :\n",
      "A: LR=predict(X_test)\n",
      "B: LR.predict(X_test)\n",
      "C: LR.predict(LR, X_test)\n",
      "D: predict(LR, X_test)\n",
      "---\n",
      "LR.predict(X_test)\n",
      "</>\n",
      "All of these options are useful error measures to compare regressions except:\n",
      "A: SSE\n",
      "B: R squared\n",
      "C: TSS\n",
      "D: ROC index\n",
      "---\n",
      "ROC index\n",
      "</>\n",
      "All of the listed below are part of the Machine Learning Framework, except:\n",
      "A: Observations\n",
      "B: Features\n",
      "C: Parameters\n",
      "D: None of the above\n",
      "---\n",
      "None of the above\n",
      "</>\n",
      "Select the option that is the most INACCURATE regarding the definition of Machine Learning:\n",
      "A: Machine Learning allows computers to learn from data\n",
      "B: Machine Learning allows computers to infer predictions for new data\n",
      "C: Machine Learning is a subset of Artificial Intelligence\n",
      "D: Machine Learning is automated and requires no programming\n",
      "---\n",
      "Machine Learning is automated and requires no programming\n",
      "</>\n",
      "In Linear Regression, which statement about model evaluation is the most accurate? \n",
      "A: Model selection involves choosing a model that minimizes the cost function.\n",
      "B: Model estimation involves choosing parameters that minimize the cost function.\n",
      "C: Model estimation involves choosing a cost function that can be compared across models. \n",
      "D: Model selection involves choosing modeling parameters that minimize in-sample validation error. \n",
      "---\n",
      "Model estimation involves choosing parameters that minimize the cost function.\n",
      "</>\n",
      "When learning about regression we saw the outcome as a continuous number. Given the below options what is an example of regression?\n",
      "A: A fraudulent charge\n",
      "B: Under certain circumstances determine if a person is a Republican or Democrat\n",
      "C: Customer churn\n",
      "D: Housing prices\n",
      "---\n",
      "Housing prices\n",
      "</>\n"
     ]
    }
   ],
   "source": [
    "'''files = []\n",
    "dir = \"C:/Users/DELL/OneDrive - Đại học FPT- FPT University/Desktop/Jupyter Stuff/Coursera_Quizlet/DAP391m\"\n",
    "for file in os.listdir(dir):\n",
    "    if file.endswith(r\".html\"):\n",
    "        files.append(file)'''\n",
    "files = [\"15.html\"]\n",
    "for file in files:\n",
    "    with open(file, encoding='utf-8') as fp:\n",
    "        soup = BeautifulSoup(fp, 'html.parser')\n",
    "        extract_data(soup)"
   ]
  },
  {
   "cell_type": "code",
   "execution_count": 6,
   "id": "dfb44499",
   "metadata": {
    "collapsed": true
   },
   "outputs": [
    {
     "name": "stdout",
     "output_type": "stream",
     "text": [
      "[<div class=\"rc-FormPartsQuestion__row\" data-test=\"legend\" id=\"2DmO5k-legend\"><div class=\"rc-FormPartsQuestion__numberCell\"><h3 aria-hidden=\"true\" class=\"cds-137 css-13n3rak cds-139\"><span>1</span>.</h3><span class=\"screenreader-only\"><span>Question 1</span></span></div><div class=\"rc-FormPartsQuestion__contentCell\" id=\"prompt-2DmO5k\"><div class=\"cds-137 css-1j071wf cds-139\"><div class=\"rc-CML\" dir=\"auto\"><div class=\"css-b1j1et\" data-testid=\"cml-viewer\"><p><span><span>(True/False) Machine Learning is a subset of Artificial Intelligence</span></span></p></div></div></div></div><div class=\"rc-FormPartsQuestion__pointsCell\"><div class=\"css-1xe0vjc\"><span class=\"cds-137 css-139dys0 cds-139\"><span><span dir=\"ltr\">1 / 1</span> point</span></span></div></div></div>, <div class=\"rc-FormPartsQuestion__row\" data-test=\"legend\" id=\"g8GAHW-legend\"><div class=\"rc-FormPartsQuestion__numberCell\"><h3 aria-hidden=\"true\" class=\"cds-137 css-13n3rak cds-139\"><span>2</span>.</h3><span class=\"screenreader-only\"><span>Question 2</span></span></div><div class=\"rc-FormPartsQuestion__contentCell\" id=\"prompt-g8GAHW\"><div class=\"cds-137 css-1j071wf cds-139\"><div class=\"rc-CML\" dir=\"auto\"><div class=\"css-b1j1et\" data-testid=\"cml-viewer\"><p><span><span>(True/False) Deep Learning is a subset of Machine Learning</span></span></p></div></div></div></div><div class=\"rc-FormPartsQuestion__pointsCell\"><div class=\"css-1xe0vjc\"><span class=\"cds-137 css-139dys0 cds-139\"><span><span dir=\"ltr\">1 / 1</span> point</span></span></div></div></div>, <div class=\"rc-FormPartsQuestion__row\" data-test=\"legend\" id=\"1Uw4lL-legend\"><div class=\"rc-FormPartsQuestion__numberCell\"><h3 aria-hidden=\"true\" class=\"cds-137 css-13n3rak cds-139\"><span>3</span>.</h3><span class=\"screenreader-only\"><span>Question 3</span></span></div><div class=\"rc-FormPartsQuestion__contentCell\" id=\"prompt-1Uw4lL\"><div class=\"cds-137 css-1j071wf cds-139\"><div class=\"rc-CML\" dir=\"auto\"><div class=\"css-b1j1et\" data-testid=\"cml-viewer\"><p><span><span>(True/False) Machine Learning consists in programming computers to learn from real-time human interactions</span></span></p></div></div></div></div><div class=\"rc-FormPartsQuestion__pointsCell\"><div class=\"css-1xe0vjc\"><span class=\"cds-137 css-139dys0 cds-139\"><span><span dir=\"ltr\">1 / 1</span> point</span></span></div></div></div>]\n",
      "[<div class=\"rc-Option rc-Option--isReadOnly\"><label class=\"_1xzd2vdb cui-Checkbox\"><span class=\"_1e7axzp\"><svg aria-hidden=\"true\" aria-labelledby=\"RadioUnchecked6c869383-c5d4-4bcc-dcbb-aca7b745dee9 RadioUnchecked6c869383-c5d4-4bcc-dcbb-aca7b745dee9Desc\" class=\"_ufjrdd\" focusable=\"false\" role=\"img\" style=\"fill: rgb(102, 102, 102); height: 24px; width: 24px;\" viewbox=\"0 0 24 24\" xmlns=\"http://www.w3.org/2000/svg\"><path d=\"M12 2C6.48 2 2 6.48 2 12s4.48 10 10 10 10-4.48 10-10S17.52 2 12 2zm0 18c-4.42 0-8-3.58-8-8s3.58-8 8-8 8 3.58 8 8-3.58 8-8 8z\" role=\"presentation\"></path></svg></span><input class=\"_gx2lzf\" name=\"2DmO5k\" readonly=\"\" tabindex=\"-1\" type=\"radio\" value=\"YflmTw\"/><span class=\"_bc4egv p-x-1s font-weight-normal\"><div class=\"cds-137 css-1j071wf cds-139\"><div class=\"rc-CML rc-Option__input-text\" dir=\"auto\"><div class=\"css-b1j1et\" data-testid=\"cml-viewer\"><p><span><span>False</span></span></p></div></div></div></span></label></div>, <div class=\"rc-Option rc-Option--isReadOnly\"><label class=\"_1xzd2vdb cui-Checkbox cui-isChecked\"><span class=\"_1e7axzp\"><svg aria-hidden=\"true\" aria-labelledby=\"RadioChecked00a9e8c1-510a-49bf-b159-ce06ad9b3f2a RadioChecked00a9e8c1-510a-49bf-b159-ce06ad9b3f2aDesc\" class=\"_ufjrdd\" focusable=\"false\" role=\"img\" style=\"fill: rgb(102, 102, 102); height: 24px; width: 24px;\" viewbox=\"0 0 24 24\" xmlns=\"http://www.w3.org/2000/svg\"><path d=\"M12 7c-2.76 0-5 2.24-5 5s2.24 5 5 5 5-2.24 5-5-2.24-5-5-5zm0-5C6.48 2 2 6.48 2 12s4.48 10 10 10 10-4.48 10-10S17.52 2 12 2zm0 18c-4.42 0-8-3.58-8-8s3.58-8 8-8 8 3.58 8 8-3.58 8-8 8z\" role=\"presentation\"></path></svg></span><input class=\"_gx2lzf\" name=\"2DmO5k\" readonly=\"\" tabindex=\"-1\" type=\"radio\" value=\"LTqiig\"/><span class=\"_bc4egv p-x-1s font-weight-normal\"><div class=\"cds-137 css-1j071wf cds-139\"><div class=\"rc-CML rc-Option__input-text\" dir=\"auto\"><div class=\"css-b1j1et\" data-testid=\"cml-viewer\"><p><span><span>True</span></span></p></div></div></div></span></label></div>, <div class=\"rc-Option rc-Option--isReadOnly\"><label class=\"_1xzd2vdb cui-Checkbox\"><span class=\"_1e7axzp\"><svg aria-hidden=\"true\" aria-labelledby=\"RadioUnchecked7a36373d-cf3b-48a2-d69f-b2fec25f50d5 RadioUnchecked7a36373d-cf3b-48a2-d69f-b2fec25f50d5Desc\" class=\"_ufjrdd\" focusable=\"false\" role=\"img\" style=\"fill: rgb(102, 102, 102); height: 24px; width: 24px;\" viewbox=\"0 0 24 24\" xmlns=\"http://www.w3.org/2000/svg\"><path d=\"M12 2C6.48 2 2 6.48 2 12s4.48 10 10 10 10-4.48 10-10S17.52 2 12 2zm0 18c-4.42 0-8-3.58-8-8s3.58-8 8-8 8 3.58 8 8-3.58 8-8 8z\" role=\"presentation\"></path></svg></span><input class=\"_gx2lzf\" name=\"g8GAHW\" readonly=\"\" tabindex=\"-1\" type=\"radio\" value=\"oNzKkI\"/><span class=\"_bc4egv p-x-1s font-weight-normal\"><div class=\"cds-137 css-1j071wf cds-139\"><div class=\"rc-CML rc-Option__input-text\" dir=\"auto\"><div class=\"css-b1j1et\" data-testid=\"cml-viewer\"><p><span><span>False</span></span></p></div></div></div></span></label></div>, <div class=\"rc-Option rc-Option--isReadOnly\"><label class=\"_1xzd2vdb cui-Checkbox cui-isChecked\"><span class=\"_1e7axzp\"><svg aria-hidden=\"true\" aria-labelledby=\"RadioCheckedf8b87ce2-456b-4600-dd16-3812715b0f15 RadioCheckedf8b87ce2-456b-4600-dd16-3812715b0f15Desc\" class=\"_ufjrdd\" focusable=\"false\" role=\"img\" style=\"fill: rgb(102, 102, 102); height: 24px; width: 24px;\" viewbox=\"0 0 24 24\" xmlns=\"http://www.w3.org/2000/svg\"><path d=\"M12 7c-2.76 0-5 2.24-5 5s2.24 5 5 5 5-2.24 5-5-2.24-5-5-5zm0-5C6.48 2 2 6.48 2 12s4.48 10 10 10 10-4.48 10-10S17.52 2 12 2zm0 18c-4.42 0-8-3.58-8-8s3.58-8 8-8 8 3.58 8 8-3.58 8-8 8z\" role=\"presentation\"></path></svg></span><input class=\"_gx2lzf\" name=\"g8GAHW\" readonly=\"\" tabindex=\"-1\" type=\"radio\" value=\"xCnFm6\"/><span class=\"_bc4egv p-x-1s font-weight-normal\"><div class=\"cds-137 css-1j071wf cds-139\"><div class=\"rc-CML rc-Option__input-text\" dir=\"auto\"><div class=\"css-b1j1et\" data-testid=\"cml-viewer\"><p><span><span>True</span></span></p></div></div></div></span></label></div>, <div class=\"rc-Option rc-Option--isReadOnly\"><label class=\"_1xzd2vdb cui-Checkbox cui-isChecked\"><span class=\"_1e7axzp\"><svg aria-hidden=\"true\" aria-labelledby=\"RadioChecked926bf819-3ae3-4767-e8de-be2550e4d09d RadioChecked926bf819-3ae3-4767-e8de-be2550e4d09dDesc\" class=\"_ufjrdd\" focusable=\"false\" role=\"img\" style=\"fill: rgb(102, 102, 102); height: 24px; width: 24px;\" viewbox=\"0 0 24 24\" xmlns=\"http://www.w3.org/2000/svg\"><path d=\"M12 7c-2.76 0-5 2.24-5 5s2.24 5 5 5 5-2.24 5-5-2.24-5-5-5zm0-5C6.48 2 2 6.48 2 12s4.48 10 10 10 10-4.48 10-10S17.52 2 12 2zm0 18c-4.42 0-8-3.58-8-8s3.58-8 8-8 8 3.58 8 8-3.58 8-8 8z\" role=\"presentation\"></path></svg></span><input class=\"_gx2lzf\" name=\"1Uw4lL\" readonly=\"\" tabindex=\"-1\" type=\"radio\" value=\"fWbIZW\"/><span class=\"_bc4egv p-x-1s font-weight-normal\"><div class=\"cds-137 css-1j071wf cds-139\"><div class=\"rc-CML rc-Option__input-text\" dir=\"auto\"><div class=\"css-b1j1et\" data-testid=\"cml-viewer\"><p><span><span>False</span></span></p></div></div></div></span></label></div>, <div class=\"rc-Option rc-Option--isReadOnly\"><label class=\"_1xzd2vdb cui-Checkbox\"><span class=\"_1e7axzp\"><svg aria-hidden=\"true\" aria-labelledby=\"RadioUncheckedb6c58e6c-99da-4a27-fa91-929592bf5dc0 RadioUncheckedb6c58e6c-99da-4a27-fa91-929592bf5dc0Desc\" class=\"_ufjrdd\" focusable=\"false\" role=\"img\" style=\"fill: rgb(102, 102, 102); height: 24px; width: 24px;\" viewbox=\"0 0 24 24\" xmlns=\"http://www.w3.org/2000/svg\"><path d=\"M12 2C6.48 2 2 6.48 2 12s4.48 10 10 10 10-4.48 10-10S17.52 2 12 2zm0 18c-4.42 0-8-3.58-8-8s3.58-8 8-8 8 3.58 8 8-3.58 8-8 8z\" role=\"presentation\"></path></svg></span><input class=\"_gx2lzf\" name=\"1Uw4lL\" readonly=\"\" tabindex=\"-1\" type=\"radio\" value=\"eymIYo\"/><span class=\"_bc4egv p-x-1s font-weight-normal\"><div class=\"cds-137 css-1j071wf cds-139\"><div class=\"rc-CML rc-Option__input-text\" dir=\"auto\"><div class=\"css-b1j1et\" data-testid=\"cml-viewer\"><p><span><span>True</span></span></p></div></div></div></span></label></div>]\n"
     ]
    }
   ],
   "source": [
    "# For testing and debugging purposes\n",
    "\n",
    "files = [\"01.html\"]\n",
    "for file in files:\n",
    "    with open(file,\n",
    "              encoding='utf-8') as fp:\n",
    "        soup = BeautifulSoup(fp, 'html.parser')\n",
    "        print(soup.find_all('div',{\"data-test\": 'legend'}))\n",
    "        print(soup.find_all('div',{\"class\":\"rc-Option\"}))\n",
    "        \n",
    "        "
   ]
  },
  {
   "cell_type": "code",
   "execution_count": null,
   "id": "051dfd2c",
   "metadata": {},
   "outputs": [],
   "source": []
  }
 ],
 "metadata": {
  "kernelspec": {
   "display_name": "Python 3 (ipykernel)",
   "language": "python",
   "name": "python3"
  },
  "language_info": {
   "codemirror_mode": {
    "name": "ipython",
    "version": 3
   },
   "file_extension": ".py",
   "mimetype": "text/x-python",
   "name": "python",
   "nbconvert_exporter": "python",
   "pygments_lexer": "ipython3",
   "version": "3.10.4"
  },
  "vscode": {
   "interpreter": {
    "hash": "fbc768028c3e6ead51d9a200ddcb2ec858ae62844dcd1994729a8279be9b48f2"
   }
  }
 },
 "nbformat": 4,
 "nbformat_minor": 5
}
