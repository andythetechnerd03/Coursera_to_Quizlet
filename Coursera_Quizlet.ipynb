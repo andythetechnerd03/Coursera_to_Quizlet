{
 "cells": [
  {
   "cell_type": "code",
   "execution_count": 1,
   "id": "3c8de8a3",
   "metadata": {},
   "outputs": [],
   "source": [
    "import pandas as pd\n",
    "from bs4 import BeautifulSoup\n",
    "import os"
   ]
  },
  {
   "cell_type": "code",
   "execution_count": 2,
   "id": "676eabf2",
   "metadata": {},
   "outputs": [],
   "source": [
    "def print_code(xml):\n",
    "    code = xml.find_all('div',{\"class\":\"view-lines\"})\n",
    "    for c in code:\n",
    "        line = c.find_all(\"div\",{\"class\":\"view-line\"})\n",
    "        for l in line:\n",
    "            if not l.find(\"span\",{\"class\":[\"mtk1\",'mtk6','mtk20']}): continue\n",
    "            for ll in l.find(\"span\",{\"class\":[\"mtk1\",'mtk6','mtk20']}): # these are the types of code colors\n",
    "                print(l.text, end='')\n",
    "            print(\"\")"
   ]
  },
  {
   "cell_type": "code",
   "execution_count": 48,
   "id": "5f257f9f",
   "metadata": {},
   "outputs": [],
   "source": [
    "def extract_data(soup): # seperate questions and answers by ---, questions and questions by </>\n",
    "    mydivs = soup.find_all(\"div\", {\"class\": \"rc-FormPartsQuestion\"})\n",
    "    for i,div in enumerate(mydivs):\n",
    "        question = div.find('div',{\"data-test\": 'legend'})\n",
    "        answers = div.find_all('div',{\"class\":\"rc-Option\"})\n",
    "        corrects = []\n",
    "        for q in question.select('p'):\n",
    "            if q.text.strip(): print(f\"{q.text}\")\n",
    "        if question.find('code'): #if there is a code in the question\n",
    "            print_code(question.find('code'))\n",
    "        for j,answer in enumerate(answers):\n",
    "            print(f\"{chr(j+65)}: \",end=\"\")\n",
    "            for line in answer.select('p'):\n",
    "                if line.text.strip(): print(line.text)\n",
    "            if answer.find(\"svg\")[\"aria-labelledby\"].startswith(('Checkbox','RadioChecked')): corrects.append(answer)\n",
    "            if answer.find('code'): print_code(answer.find('code'))  # if there is a code in the answer\n",
    "        print(\"---\")\n",
    "        for correct in corrects:\n",
    "            if correct.find('code'): print_code(correct.find('code'))\n",
    "            for c in correct.select('p'):\n",
    "                if c.text.strip(): print(c.text)\n",
    "        print(\"</>\")"
   ]
  },
  {
   "cell_type": "code",
   "execution_count": null,
   "id": "4568120e",
   "metadata": {
    "collapsed": true
   },
   "outputs": [],
   "source": [
    "'''files = []\n",
    "dir = \"C:/Users/DELL/OneDrive - Đại học FPT- FPT University/Desktop/Jupyter Stuff/Coursera_Quizlet/DAP391m\"\n",
    "for file in os.listdir(dir):\n",
    "    if file.endswith(r\".html\"):\n",
    "        files.append(file)'''\n",
    "files = [\"17.html\"]\n",
    "for file in files:\n",
    "    with open(file, encoding='utf-8') as fp:\n",
    "        soup = BeautifulSoup(fp, 'html.parser')\n",
    "        extract_data(soup)"
   ]
  },
  {
   "cell_type": "code",
   "execution_count": null,
   "id": "dfb44499",
   "metadata": {
    "collapsed": true
   },
   "outputs": [],
   "source": [
    "# For testing and debugging purposes\n",
    "\n",
    "files = [\"Graded Quiz_ Classification _ Coursera.html\"]\n",
    "for file in files:\n",
    "    with open(file,\n",
    "              encoding='utf-8') as fp:\n",
    "        soup = BeautifulSoup(fp, 'html.parser')\n",
    "        print(soup.find_all('div',{\"data-test\": 'legend'}))\n",
    "        print(soup.find_all('div',{\"class\":\"rc-Option\"}))\n",
    "        \n",
    "        "
   ]
  },
  {
   "cell_type": "code",
   "execution_count": null,
   "id": "051dfd2c",
   "metadata": {},
   "outputs": [],
   "source": []
  }
 ],
 "metadata": {
  "kernelspec": {
   "display_name": "Python 3 (ipykernel)",
   "language": "python",
   "name": "python3"
  },
  "language_info": {
   "codemirror_mode": {
    "name": "ipython",
    "version": 3
   },
   "file_extension": ".py",
   "mimetype": "text/x-python",
   "name": "python",
   "nbconvert_exporter": "python",
   "pygments_lexer": "ipython3",
   "version": "3.10.4"
  },
  "vscode": {
   "interpreter": {
    "hash": "fbc768028c3e6ead51d9a200ddcb2ec858ae62844dcd1994729a8279be9b48f2"
   }
  }
 },
 "nbformat": 4,
 "nbformat_minor": 5
}
